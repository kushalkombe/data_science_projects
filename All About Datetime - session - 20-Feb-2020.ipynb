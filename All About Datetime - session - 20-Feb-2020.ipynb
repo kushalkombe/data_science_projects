{
 "cells": [
  {
   "cell_type": "code",
   "execution_count": 2,
   "metadata": {},
   "outputs": [],
   "source": [
    "# import datetime class from datetime module\n",
    "from datetime import datetime"
   ]
  },
  {
   "cell_type": "code",
   "execution_count": 3,
   "metadata": {},
   "outputs": [
    {
     "name": "stdout",
     "output_type": "stream",
     "text": [
      "2020-02-20 08:32:45.704292\n",
      "Type :-  <class 'datetime.datetime'>\n"
     ]
    }
   ],
   "source": [
    "# get current date\n",
    "datetime_object = datetime.now()\n",
    "\n",
    "print(datetime_object)\n",
    "print('Type :- ',type(datetime_object))"
   ]
  },
  {
   "cell_type": "code",
   "execution_count": 50,
   "metadata": {},
   "outputs": [
    {
     "name": "stdout",
     "output_type": "stream",
     "text": [
      "2020-02-20 00:00:00\n",
      "Type:  <class 'datetime.datetime'>\n"
     ]
    }
   ],
   "source": [
    "my_string = '2020-02-20'\n",
    "\n",
    "# Create date object in given time format yyyy-mm-dd\n",
    "my_date = datetime.strptime(my_string, \"%Y-%m-%d\")\n",
    "\n",
    "print(my_date)\n",
    "print('Type: ',type(my_date))"
   ]
  },
  {
   "cell_type": "code",
   "execution_count": 51,
   "metadata": {},
   "outputs": [
    {
     "data": {
      "text/plain": [
       "str"
      ]
     },
     "execution_count": 51,
     "metadata": {},
     "output_type": "execute_result"
    }
   ],
   "source": [
    "type(my_string)"
   ]
  },
  {
   "cell_type": "code",
   "execution_count": 52,
   "metadata": {},
   "outputs": [
    {
     "name": "stdout",
     "output_type": "stream",
     "text": [
      "Month:  2\n",
      "Year:  2020\n"
     ]
    }
   ],
   "source": [
    "print('Month: ', my_date.month) # To Get month from date\n",
    "print('Year: ', my_date.year) # To Get month from year"
   ]
  },
  {
   "cell_type": "code",
   "execution_count": 53,
   "metadata": {},
   "outputs": [
    {
     "name": "stdout",
     "output_type": "stream",
     "text": [
      "Day of Month: 20\n",
      "Day of Week (IN number):  3\n",
      "Day of Week (name):  Thursday\n"
     ]
    }
   ],
   "source": [
    "import calendar\n",
    "\n",
    "print('Day of Month:', my_date.day)\n",
    "\n",
    "# to get name of day(in number) from date\n",
    "print('Day of Week (In number): ', my_date.weekday())\n",
    "\n",
    "# to get name of day from date\n",
    "print('Day of Week (name): ', calendar.day_name[my_date.weekday()])"
   ]
  },
  {
   "cell_type": "code",
   "execution_count": 54,
   "metadata": {},
   "outputs": [
    {
     "name": "stdout",
     "output_type": "stream",
     "text": [
      "0 - Monday\n",
      "1 - Tuesday\n",
      "2 - Wednesday\n",
      "3 - Thursday\n",
      "4 - Friday\n",
      "5 - Saturday\n",
      "6 - Sunday\n"
     ]
    }
   ],
   "source": [
    "j = 0\n",
    "for i in calendar.day_name:\n",
    "    print(j,'-',i)\n",
    "    j+=1"
   ]
  },
  {
   "cell_type": "markdown",
   "metadata": {},
   "source": [
    "Getting Hours and Minutes From a Python Datetime Object"
   ]
  },
  {
   "cell_type": "code",
   "execution_count": 59,
   "metadata": {},
   "outputs": [
    {
     "name": "stdout",
     "output_type": "stream",
     "text": [
      "todays date :  2020-02-20 09:04:38.557868\n",
      "Hour:  9\n",
      "Minute:  4\n",
      "Second:  38\n"
     ]
    }
   ],
   "source": [
    "from datetime import datetime\n",
    "todays_date = datetime.now()\n",
    "\n",
    "\n",
    "print('todays date : ', str(todays_date))\n",
    "# to get hour from datetime\n",
    "print('Hour: ', todays_date.hour)\n",
    "\n",
    "# to get minute from datetime\n",
    "print('Minute: ', todays_date.minute)\n",
    "\n",
    "# to get second from datetime\n",
    "print('Second: ', todays_date.second)\n"
   ]
  },
  {
   "cell_type": "code",
   "execution_count": 60,
   "metadata": {},
   "outputs": [
    {
     "data": {
      "text/plain": [
       "(2020, 8, 4)"
      ]
     },
     "execution_count": 60,
     "metadata": {},
     "output_type": "execute_result"
    }
   ],
   "source": [
    "# Return a 3-tuple, (ISO year, ISO week number, ISO weekday).\n",
    "todays_date.isocalendar()    # International Standard ORganization    # interview question"
   ]
  },
  {
   "cell_type": "code",
   "execution_count": 61,
   "metadata": {},
   "outputs": [
    {
     "data": {
      "text/plain": [
       "8"
      ]
     },
     "execution_count": 61,
     "metadata": {},
     "output_type": "execute_result"
    }
   ],
   "source": [
    "todays_date.isocalendar()[1]    #We can see from the above that this is the 3rd week of the year"
   ]
  },
  {
   "cell_type": "code",
   "execution_count": 62,
   "metadata": {},
   "outputs": [
    {
     "data": {
      "text/plain": [
       "2020"
      ]
     },
     "execution_count": 62,
     "metadata": {},
     "output_type": "execute_result"
    }
   ],
   "source": [
    "todays_date.isocalendar()[0] # Year extraction from a tuple"
   ]
  },
  {
   "cell_type": "code",
   "execution_count": 63,
   "metadata": {},
   "outputs": [
    {
     "data": {
      "text/plain": [
       "4"
      ]
     },
     "execution_count": 63,
     "metadata": {},
     "output_type": "execute_result"
    }
   ],
   "source": [
    "todays_date.isocalendar()[2] # extraction of the weekday"
   ]
  },
  {
   "cell_type": "markdown",
   "metadata": {},
   "source": [
    "Date with time"
   ]
  },
  {
   "cell_type": "code",
   "execution_count": 66,
   "metadata": {},
   "outputs": [
    {
     "name": "stdout",
     "output_type": "stream",
     "text": [
      "Date and Time : 2020-02-20 09:14:31.585110\n",
      "Timestamp: 1582170271.58511\n"
     ]
    }
   ],
   "source": [
    "#import datetime\n",
    "from datetime import datetime\n",
    "\n",
    "# get current date\n",
    "now = datetime.now()\n",
    "\n",
    "# convert current date into timestamp\n",
    "ts = datetime.timestamp(now)\n",
    "\n",
    "print(\"Date and Time :\", now)\n",
    "print(\"Timestamp:\", ts)   #1582170209.904099"
   ]
  },
  {
   "cell_type": "code",
   "execution_count": 67,
   "metadata": {},
   "outputs": [
    {
     "name": "stdout",
     "output_type": "stream",
     "text": [
      "dt_object: 2020-02-20 09:14:31.585110\n",
      "type(dt_object):  <class 'datetime.datetime'>\n"
     ]
    }
   ],
   "source": [
    "# Convert string to datetime\n",
    "\n",
    "#import datetime\n",
    "from datetime import datetime\n",
    "\n",
    "timestamp = 1582170271.58511\n",
    "\n",
    "#convert timestamp to datetime object\n",
    "dt_object = datetime.fromtimestamp(timestamp)\n",
    "\n",
    "print(\"dt_object:\", dt_object)\n",
    "print(\"type(dt_object): \", type(dt_object))"
   ]
  },
  {
   "cell_type": "code",
   "execution_count": null,
   "metadata": {},
   "outputs": [],
   "source": [
    "# Measuring Time Span with Timedelta Objects"
   ]
  },
  {
   "cell_type": "code",
   "execution_count": 68,
   "metadata": {},
   "outputs": [
    {
     "name": "stdout",
     "output_type": "stream",
     "text": [
      "14 days, 0:00:00\n",
      "<class 'datetime.timedelta'>\n",
      "14\n"
     ]
    }
   ],
   "source": [
    "#import datetime\n",
    "from datetime import timedelta\n",
    "\n",
    "# create timedelta object with difference of 2 weeks\n",
    "d = timedelta(weeks=2)\n",
    "\n",
    "print(d)\n",
    "print(type(d))\n",
    "print(d.days)"
   ]
  },
  {
   "cell_type": "code",
   "execution_count": 69,
   "metadata": {},
   "outputs": [
    {
     "name": "stdout",
     "output_type": "stream",
     "text": [
      "365 days, 0:00:00\n"
     ]
    }
   ],
   "source": [
    "year = timedelta(days=365)\n",
    "print(year)"
   ]
  },
  {
   "cell_type": "markdown",
   "metadata": {},
   "source": [
    "# Operations using delta on dates"
   ]
  },
  {
   "cell_type": "code",
   "execution_count": 74,
   "metadata": {},
   "outputs": [
    {
     "name": "stdout",
     "output_type": "stream",
     "text": [
      "Today's date:  2020-02-20 09:24:04.839742\n",
      "Date after 14 days:  2020-03-05 09:24:04.839742\n",
      "Date two weeks ago:  2020-02-06 09:24:04.839742\n",
      "two_weeks_ago object type:  <class 'datetime.datetime'>\n",
      "Date two years ago:  2018-02-20 09:24:04.839742\n",
      "two_years_ago object type:  <class 'datetime.datetime'>\n"
     ]
    }
   ],
   "source": [
    "#import datetime\n",
    "from datetime import datetime, timedelta\n",
    "\n",
    "# get current time\n",
    "now = datetime.now()\n",
    "print (\"Today's date: \", str(now))\n",
    "\n",
    "#add 15 days to current date\n",
    "future_date_after_14days = now + timedelta(days = 14)\n",
    "print('Date after 14 days: ', future_date_after_14days)\n",
    "\n",
    "#subtract 2 weeks from current date\n",
    "two_weeks_ago = now - timedelta(weeks = 2)\n",
    "print('Date two weeks ago: ', two_weeks_ago)\n",
    "print('two_weeks_ago object type: ', type(two_weeks_ago))\n",
    "\n",
    "#subtract 2 years from current date\n",
    "two_years_ago = now - timedelta(days= 730)\n",
    "print('Date two years ago: ', two_years_ago)\n",
    "print('two_years_ago object type: ', type(two_years_ago))\n",
    "\n"
   ]
  },
  {
   "cell_type": "code",
   "execution_count": null,
   "metadata": {},
   "outputs": [],
   "source": [
    "# Find the Difference Between Two Dates and Times"
   ]
  },
  {
   "cell_type": "code",
   "execution_count": 78,
   "metadata": {},
   "outputs": [
    {
     "name": "stdout",
     "output_type": "stream",
     "text": [
      "Difference:  0\n",
      "delta object type:  <class 'datetime.timedelta'>\n"
     ]
    }
   ],
   "source": [
    "# import datetime\n",
    "from datetime import date\n",
    "\n",
    "# Create two dates\n",
    "date1 = date(2020, 2, 20)\n",
    "date2 = date(2020, 2, 20)\n",
    "\n",
    "# Difference between two dates\n",
    "delta = date2 - date1\n",
    "\n",
    "print(\"Difference: \", delta.days)\n",
    "print('delta object type: ', type(delta))"
   ]
  },
  {
   "cell_type": "code",
   "execution_count": 79,
   "metadata": {},
   "outputs": [
    {
     "name": "stdout",
     "output_type": "stream",
     "text": [
      "date1 : 2017-06-21 18:25:30\n",
      "date2 : 2017-05-16 08:21:10\n",
      "Difference:  36 days, 10:04:20\n"
     ]
    }
   ],
   "source": [
    "# import datetime\n",
    "from datetime import datetime\n",
    "\n",
    "# create two dates with year, month, day, hour, minute, and second\n",
    "date1 = datetime(2017, 6, 21, 18, 25, 30)\n",
    "date2 = datetime(2017, 5, 16, 8, 21, 10)\n",
    "\n",
    "print('date1 : ' + str(date1))\n",
    "print('date2 : ' + str(date2))\n",
    "\n",
    "\n",
    "# Difference between two dates\n",
    "diff = date1-date2\n",
    "\n",
    "print(\"Difference: \", diff)"
   ]
  },
  {
   "cell_type": "code",
   "execution_count": null,
   "metadata": {},
   "outputs": [],
   "source": [
    "# Formatting Dates: More on strftime() and strptime()"
   ]
  },
  {
   "cell_type": "code",
   "execution_count": 80,
   "metadata": {},
   "outputs": [
    {
     "name": "stdout",
     "output_type": "stream",
     "text": [
      "date_object:  2019-08-01 00:00:00\n",
      "<class 'datetime.datetime'>\n"
     ]
    }
   ],
   "source": [
    "# import datetime\n",
    "from datetime import datetime\n",
    "\n",
    "date_string = \"1 August, 2019\"\n",
    "\n",
    "# format date\n",
    "date_object = datetime.strptime(date_string, \"%d %B, %Y\")\n",
    "\n",
    "print(\"date_object: \", date_object)\n",
    "print(type(date_object))"
   ]
  },
  {
   "cell_type": "code",
   "execution_count": 83,
   "metadata": {},
   "outputs": [
    {
     "name": "stdout",
     "output_type": "stream",
     "text": [
      "dt_object1: 2020-12-02 09:39:32\n",
      "dt_object2: 2020-02-12 09:39:32\n",
      "Timestamp:  1581480572.0\n",
      "Output 1: Wed Feb 12 09:39:32 2020\n",
      "<class 'str'>\n",
      "Output 2: 02/12/20\n",
      "<class 'str'>\n",
      "Output 3: 09:39:32\n",
      "<class 'str'>\n"
     ]
    }
   ],
   "source": [
    "# import datetime\n",
    "from datetime import datetime\n",
    "\n",
    "dt_string = \"02/12/2020 09:39:32\"\n",
    "# Considering date is in dd/mm/yyyy format\n",
    "dt_object1 = datetime.strptime(dt_string, \"%d/%m/%Y %H:%M:%S\")\n",
    "print(\"dt_object1:\", dt_object1)\n",
    "\n",
    "# Considering date is in mm/dd/yyyy format\n",
    "dt_object2 = datetime.strptime(dt_string, \"%m/%d/%Y %H:%M:%S\")\n",
    "print(\"dt_object2:\", dt_object2)\n",
    "\n",
    "# Convert dt_object2 to Unix Timestamp\n",
    "timestamp = datetime.timestamp(dt_object2)\n",
    "print('Timestamp: ', timestamp)\n",
    "\n",
    "# Convert back into datetime\n",
    "date_time = datetime.fromtimestamp(timestamp)\n",
    "\n",
    "d = date_time.strftime(\"%c\")\n",
    "print(\"Output 1:\", d)\n",
    "print(type(d))\n",
    "\n",
    "d = date_time.strftime(\"%x\")\n",
    "print(\"Output 2:\", d)\n",
    "print(type(d))\n",
    "\n",
    "d = date_time.strftime(\"%X\")\n",
    "print(\"Output 3:\", d)\n",
    "print(type(d))\n"
   ]
  },
  {
   "cell_type": "code",
   "execution_count": 24,
   "metadata": {},
   "outputs": [
    {
     "name": "stdout",
     "output_type": "stream",
     "text": [
      "Year: 2020\n",
      "Month; 01\n",
      "Day: 16\n",
      "Time: 11:53:29\n",
      "Date and Time: 01/16/2020, 11:53:29\n"
     ]
    }
   ],
   "source": [
    "# current date and time\n",
    "now = datetime.now()\n",
    "\n",
    "# get year from date\n",
    "year = now.strftime(\"%Y\")\n",
    "print(\"Year:\", year)\n",
    "\n",
    "# get month from date\n",
    "month = now.strftime(\"%m\")\n",
    "print(\"Month;\", month)\n",
    "\n",
    "# get day from date\n",
    "day = now.strftime(\"%d\")\n",
    "print(\"Day:\", day)\n",
    "\n",
    "# format time in HH:MM:SS\n",
    "time = now.strftime(\"%H:%M:%S\")\n",
    "print(\"Time:\", time)\n",
    "\n",
    "# format date\n",
    "date_time = now.strftime(\"%m/%d/%Y, %H:%M:%S\")\n",
    "print(\"Date and Time:\",date_time)"
   ]
  },
  {
   "cell_type": "markdown",
   "metadata": {},
   "source": [
    "Handling Timezones"
   ]
  },
  {
   "cell_type": "code",
   "execution_count": 91,
   "metadata": {},
   "outputs": [
    {
     "name": "stdout",
     "output_type": "stream",
     "text": [
      "Asia : 2020-02-20 10:00:00+05:30\n",
      "US: 2020-02-19 23:30:00-05:00\n",
      "2020-02-20 15:30:00+11:00\n"
     ]
    }
   ],
   "source": [
    "#import timezone from pytz module\n",
    "from pytz import timezone\n",
    "\n",
    "# Convert localized date into Asia/Kolkata timezone\n",
    "# Localize date\n",
    "kolkata = timezone(\"Asia/Kolkata\")\n",
    "loc_dt = kolkata.localize(datetime(2020, 2, 20, 10, 0, 0))\n",
    "print('Asia : ' + str(loc_dt.astimezone(kolkata)))\n",
    "\n",
    "# Create timezone US/Eastern\n",
    "east = timezone('US/Eastern')\n",
    "print('US: ' + str(loc_dt.astimezone(east)))\n",
    " \n",
    "\n",
    "\n",
    "# Convert localized date into Australia/Sydney timezone\n",
    "au_tz = timezone('Australia/Sydney')\n",
    "print(loc_dt.astimezone(au_tz))"
   ]
  },
  {
   "cell_type": "markdown",
   "metadata": {},
   "source": [
    "Working with pandas Datetime Objects"
   ]
  },
  {
   "cell_type": "markdown",
   "metadata": {},
   "source": [
    " We can convert date, time, and duration text strings into pandas Datetime objects using these functions:\n",
    "\n",
    "    to_datetime(): Converts string dates and times into Python datetime objects.\n",
    "    to_timedelta(): Finds differences in times in terms of days, hours, minutes, and seconds.\n"
   ]
  },
  {
   "cell_type": "code",
   "execution_count": 92,
   "metadata": {},
   "outputs": [
    {
     "name": "stdout",
     "output_type": "stream",
     "text": [
      "2019-09-08 00:00:00\n"
     ]
    }
   ],
   "source": [
    "# import pandas module as pd\n",
    "import pandas as pd\n",
    "\n",
    "# create date object using to_datetime() function\n",
    "date = pd.to_datetime(\"8th of sep, 2019\")  # Note that even though we gave it a string with some complicating factors like a “th” and “sep” rather than “Sep.” or “September”, pandas was able to correctly parse the string and return a formatted date.\n",
    "print(date)"
   ]
  },
  {
   "cell_type": "code",
   "execution_count": 39,
   "metadata": {},
   "outputs": [],
   "source": [
    "pd.to_datetime?"
   ]
  },
  {
   "cell_type": "code",
   "execution_count": 93,
   "metadata": {},
   "outputs": [
    {
     "name": "stdout",
     "output_type": "stream",
     "text": [
      "1  = 2020-12-01 00:00:00\n",
      "2  = 2020-01-12 00:00:00\n",
      "3  = 2020-01-12 00:00:00\n",
      "3.1 = 2020-12-01 00:00:00\n",
      "4  = 2019-03-12 00:00:00\n",
      "5  = 2020-04-01 00:00:00\n"
     ]
    }
   ],
   "source": [
    "date = pd.to_datetime(\"12/1/2020\") \n",
    "print('1  = ' + str(date)) # Can not print date and string together so we need to convert date into str and then concatanate with other string\n",
    "\n",
    "date = pd.to_datetime(\"12/1/2020\",dayfirst=True)\n",
    "print('2  = ' + str(date))\n",
    "\n",
    "\n",
    "date = pd.to_datetime(\"12/1/2020\", format='%d/%m/%Y')\n",
    "print('3  = ' + str(date))\n",
    "\n",
    "date = pd.to_datetime(\"12/1/2020\", format='%m/%d/%Y')\n",
    "print('3.1 = ' + str(date))\n",
    "\n",
    "date = pd.to_datetime(\"12-Mar-2019\")\n",
    "print('4  = ' + str(date))\n",
    "\n",
    "date = pd.to_datetime(\"1-April-20\")\n",
    "print('5  = ' + str(date))"
   ]
  },
  {
   "cell_type": "code",
   "execution_count": 48,
   "metadata": {},
   "outputs": [
    {
     "data": {
      "text/plain": [
       "array([ 0,  1,  2,  3,  4,  5,  6,  7,  8,  9, 10, 11])"
      ]
     },
     "execution_count": 48,
     "metadata": {},
     "output_type": "execute_result"
    }
   ],
   "source": [
    "np.arange(12)"
   ]
  },
  {
   "cell_type": "code",
   "execution_count": 100,
   "metadata": {},
   "outputs": [
    {
     "name": "stdout",
     "output_type": "stream",
     "text": [
      "DatetimeIndex([], dtype='datetime64[ns]', freq=None)\n",
      "DatetimeIndex(['2019-08-10', '2019-08-11', '2019-08-12', '2019-08-13',\n",
      "               '2019-08-14', '2019-08-15', '2019-08-16', '2019-08-17',\n",
      "               '2019-08-18', '2019-08-19', '2019-08-20', '2019-08-21'],\n",
      "              dtype='datetime64[ns]', freq='D')\n",
      "DatetimeIndex(['2020-01-31', '2020-02-29', '2020-03-31', '2020-04-30',\n",
      "               '2020-05-31', '2020-06-30', '2020-07-31', '2020-08-31',\n",
      "               '2020-09-30', '2020-10-31', '2020-11-30', '2020-12-31',\n",
      "               '2021-01-31'],\n",
      "              dtype='datetime64[ns]', freq='M')\n",
      "DatetimeIndex(['2020-12-31', '2021-12-31', '2022-12-31', '2023-12-31',\n",
      "               '2024-12-31', '2025-12-31', '2026-12-31', '2027-12-31',\n",
      "               '2028-12-31', '2029-12-31', '2030-12-31', '2031-12-31'],\n",
      "              dtype='datetime64[ns]', freq='A-DEC')\n",
      "DatetimeIndex(['2020-12-31', '2021-12-31', '2022-12-31', '2023-12-31',\n",
      "               '2024-12-31', '2025-12-31', '2026-12-31', '2027-12-31',\n",
      "               '2028-12-31', '2029-12-31', '2030-12-31', '2031-12-31'],\n",
      "              dtype='datetime64[ns]', freq='A-DEC')\n"
     ]
    }
   ],
   "source": [
    "# Create date series using numpy and to_timedelta() function\n",
    "import numpy as np\n",
    "date = pd.to_datetime(\"1-April-20\")\n",
    "date_series = date + pd.to_timedelta(np.arange(12), 'D')\n",
    "print(date_series)\n",
    "\n",
    "#  Create date series using date_range() function\n",
    "date_series = pd.date_range('08/10/2019', periods = 12, freq ='D')\n",
    "print(date_series)\n",
    "\n",
    "#  Create date series using date_range() function\n",
    "date_series = pd.date_range('1/20/20', periods = 13, freq ='M')\n",
    "print(date_series)\n",
    "\n",
    "#  Create date series using date_range() function\n",
    "date_series = pd.date_range('1/20/20', periods = 12, freq ='Y')\n",
    "print(date_series)\n",
    "\n",
    "#  Create date series using date_range() function\n",
    "date_series = pd.date_range('1/20/20', periods = 12, freq ='Y')\n",
    "print(date_series)"
   ]
  },
  {
   "cell_type": "markdown",
   "metadata": {},
   "source": [
    "Get Year, Month, Day, Hour, Minute in pandas"
   ]
  },
  {
   "cell_type": "code",
   "execution_count": 102,
   "metadata": {},
   "outputs": [
    {
     "name": "stdout",
     "output_type": "stream",
     "text": [
      "DatetimeIndex(['2019-08-10', '2019-08-11', '2019-08-12', '2019-08-13',\n",
      "               '2019-08-14', '2019-08-15', '2019-08-16', '2019-08-17',\n",
      "               '2019-08-18', '2019-08-19', '2019-08-20', '2019-08-21'],\n",
      "              dtype='datetime64[ns]', freq='D')\n",
      "Empty DataFrame\n",
      "Columns: []\n",
      "Index: []\n"
     ]
    },
    {
     "data": {
      "text/html": [
       "<div>\n",
       "<style scoped>\n",
       "    .dataframe tbody tr th:only-of-type {\n",
       "        vertical-align: middle;\n",
       "    }\n",
       "\n",
       "    .dataframe tbody tr th {\n",
       "        vertical-align: top;\n",
       "    }\n",
       "\n",
       "    .dataframe thead th {\n",
       "        text-align: right;\n",
       "    }\n",
       "</style>\n",
       "<table border=\"1\" class=\"dataframe\">\n",
       "  <thead>\n",
       "    <tr style=\"text-align: right;\">\n",
       "      <th></th>\n",
       "      <th>date</th>\n",
       "    </tr>\n",
       "  </thead>\n",
       "  <tbody>\n",
       "    <tr>\n",
       "      <td>0</td>\n",
       "      <td>2019-08-10</td>\n",
       "    </tr>\n",
       "    <tr>\n",
       "      <td>1</td>\n",
       "      <td>2019-08-11</td>\n",
       "    </tr>\n",
       "    <tr>\n",
       "      <td>2</td>\n",
       "      <td>2019-08-12</td>\n",
       "    </tr>\n",
       "    <tr>\n",
       "      <td>3</td>\n",
       "      <td>2019-08-13</td>\n",
       "    </tr>\n",
       "    <tr>\n",
       "      <td>4</td>\n",
       "      <td>2019-08-14</td>\n",
       "    </tr>\n",
       "    <tr>\n",
       "      <td>5</td>\n",
       "      <td>2019-08-15</td>\n",
       "    </tr>\n",
       "    <tr>\n",
       "      <td>6</td>\n",
       "      <td>2019-08-16</td>\n",
       "    </tr>\n",
       "    <tr>\n",
       "      <td>7</td>\n",
       "      <td>2019-08-17</td>\n",
       "    </tr>\n",
       "    <tr>\n",
       "      <td>8</td>\n",
       "      <td>2019-08-18</td>\n",
       "    </tr>\n",
       "    <tr>\n",
       "      <td>9</td>\n",
       "      <td>2019-08-19</td>\n",
       "    </tr>\n",
       "    <tr>\n",
       "      <td>10</td>\n",
       "      <td>2019-08-20</td>\n",
       "    </tr>\n",
       "    <tr>\n",
       "      <td>11</td>\n",
       "      <td>2019-08-21</td>\n",
       "    </tr>\n",
       "  </tbody>\n",
       "</table>\n",
       "</div>"
      ],
      "text/plain": [
       "         date\n",
       "0  2019-08-10\n",
       "1  2019-08-11\n",
       "2  2019-08-12\n",
       "3  2019-08-13\n",
       "4  2019-08-14\n",
       "5  2019-08-15\n",
       "6  2019-08-16\n",
       "7  2019-08-17\n",
       "8  2019-08-18\n",
       "9  2019-08-19\n",
       "10 2019-08-20\n",
       "11 2019-08-21"
      ]
     },
     "execution_count": 102,
     "metadata": {},
     "output_type": "execute_result"
    }
   ],
   "source": [
    "\n",
    "#  Create date series using date_range() function\n",
    "date_series = pd.date_range('08/10/2019', periods = 12, freq ='D')\n",
    "print(date_series)\n",
    "\n",
    "# Create a DataFrame with one column date\n",
    "df = pd.DataFrame()\n",
    "print(df)\n",
    "df['date'] = date_series\n",
    "df.head(12)"
   ]
  },
  {
   "cell_type": "code",
   "execution_count": 103,
   "metadata": {},
   "outputs": [
    {
     "data": {
      "text/html": [
       "<div>\n",
       "<style scoped>\n",
       "    .dataframe tbody tr th:only-of-type {\n",
       "        vertical-align: middle;\n",
       "    }\n",
       "\n",
       "    .dataframe tbody tr th {\n",
       "        vertical-align: top;\n",
       "    }\n",
       "\n",
       "    .dataframe thead th {\n",
       "        text-align: right;\n",
       "    }\n",
       "</style>\n",
       "<table border=\"1\" class=\"dataframe\">\n",
       "  <thead>\n",
       "    <tr style=\"text-align: right;\">\n",
       "      <th></th>\n",
       "      <th>date</th>\n",
       "      <th>year</th>\n",
       "      <th>month</th>\n",
       "      <th>day</th>\n",
       "      <th>hour</th>\n",
       "      <th>minute</th>\n",
       "    </tr>\n",
       "  </thead>\n",
       "  <tbody>\n",
       "    <tr>\n",
       "      <td>0</td>\n",
       "      <td>2019-08-10</td>\n",
       "      <td>2019</td>\n",
       "      <td>8</td>\n",
       "      <td>10</td>\n",
       "      <td>0</td>\n",
       "      <td>0</td>\n",
       "    </tr>\n",
       "    <tr>\n",
       "      <td>1</td>\n",
       "      <td>2019-08-11</td>\n",
       "      <td>2019</td>\n",
       "      <td>8</td>\n",
       "      <td>11</td>\n",
       "      <td>0</td>\n",
       "      <td>0</td>\n",
       "    </tr>\n",
       "    <tr>\n",
       "      <td>2</td>\n",
       "      <td>2019-08-12</td>\n",
       "      <td>2019</td>\n",
       "      <td>8</td>\n",
       "      <td>12</td>\n",
       "      <td>0</td>\n",
       "      <td>0</td>\n",
       "    </tr>\n",
       "    <tr>\n",
       "      <td>3</td>\n",
       "      <td>2019-08-13</td>\n",
       "      <td>2019</td>\n",
       "      <td>8</td>\n",
       "      <td>13</td>\n",
       "      <td>0</td>\n",
       "      <td>0</td>\n",
       "    </tr>\n",
       "    <tr>\n",
       "      <td>4</td>\n",
       "      <td>2019-08-14</td>\n",
       "      <td>2019</td>\n",
       "      <td>8</td>\n",
       "      <td>14</td>\n",
       "      <td>0</td>\n",
       "      <td>0</td>\n",
       "    </tr>\n",
       "  </tbody>\n",
       "</table>\n",
       "</div>"
      ],
      "text/plain": [
       "        date  year  month  day  hour  minute\n",
       "0 2019-08-10  2019      8   10     0       0\n",
       "1 2019-08-11  2019      8   11     0       0\n",
       "2 2019-08-12  2019      8   12     0       0\n",
       "3 2019-08-13  2019      8   13     0       0\n",
       "4 2019-08-14  2019      8   14     0       0"
      ]
     },
     "execution_count": 103,
     "metadata": {},
     "output_type": "execute_result"
    }
   ],
   "source": [
    "# Extract year, month, day, hour, and minute. Assign all these date component to new column.\n",
    "df['year'] = df['date'].dt.year\n",
    "df['month'] = df['date'].dt.month\n",
    "df['day'] = df['date'].dt.day\n",
    "df['hour'] = df['date'].dt.hour\n",
    "df['minute'] = df['date'].dt.minute\n",
    "df.head()"
   ]
  },
  {
   "cell_type": "code",
   "execution_count": 104,
   "metadata": {},
   "outputs": [
    {
     "data": {
      "text/html": [
       "<div>\n",
       "<style scoped>\n",
       "    .dataframe tbody tr th:only-of-type {\n",
       "        vertical-align: middle;\n",
       "    }\n",
       "\n",
       "    .dataframe tbody tr th {\n",
       "        vertical-align: top;\n",
       "    }\n",
       "\n",
       "    .dataframe thead th {\n",
       "        text-align: right;\n",
       "    }\n",
       "</style>\n",
       "<table border=\"1\" class=\"dataframe\">\n",
       "  <thead>\n",
       "    <tr style=\"text-align: right;\">\n",
       "      <th></th>\n",
       "      <th>date</th>\n",
       "      <th>year</th>\n",
       "      <th>month</th>\n",
       "      <th>day</th>\n",
       "      <th>hour</th>\n",
       "      <th>minute</th>\n",
       "      <th>weekday</th>\n",
       "      <th>day_name</th>\n",
       "      <th>dayofyear</th>\n",
       "    </tr>\n",
       "  </thead>\n",
       "  <tbody>\n",
       "    <tr>\n",
       "      <td>0</td>\n",
       "      <td>2019-08-10</td>\n",
       "      <td>2019</td>\n",
       "      <td>8</td>\n",
       "      <td>10</td>\n",
       "      <td>0</td>\n",
       "      <td>0</td>\n",
       "      <td>5</td>\n",
       "      <td>Saturday</td>\n",
       "      <td>222</td>\n",
       "    </tr>\n",
       "    <tr>\n",
       "      <td>1</td>\n",
       "      <td>2019-08-11</td>\n",
       "      <td>2019</td>\n",
       "      <td>8</td>\n",
       "      <td>11</td>\n",
       "      <td>0</td>\n",
       "      <td>0</td>\n",
       "      <td>6</td>\n",
       "      <td>Sunday</td>\n",
       "      <td>223</td>\n",
       "    </tr>\n",
       "    <tr>\n",
       "      <td>2</td>\n",
       "      <td>2019-08-12</td>\n",
       "      <td>2019</td>\n",
       "      <td>8</td>\n",
       "      <td>12</td>\n",
       "      <td>0</td>\n",
       "      <td>0</td>\n",
       "      <td>0</td>\n",
       "      <td>Monday</td>\n",
       "      <td>224</td>\n",
       "    </tr>\n",
       "    <tr>\n",
       "      <td>3</td>\n",
       "      <td>2019-08-13</td>\n",
       "      <td>2019</td>\n",
       "      <td>8</td>\n",
       "      <td>13</td>\n",
       "      <td>0</td>\n",
       "      <td>0</td>\n",
       "      <td>1</td>\n",
       "      <td>Tuesday</td>\n",
       "      <td>225</td>\n",
       "    </tr>\n",
       "    <tr>\n",
       "      <td>4</td>\n",
       "      <td>2019-08-14</td>\n",
       "      <td>2019</td>\n",
       "      <td>8</td>\n",
       "      <td>14</td>\n",
       "      <td>0</td>\n",
       "      <td>0</td>\n",
       "      <td>2</td>\n",
       "      <td>Wednesday</td>\n",
       "      <td>226</td>\n",
       "    </tr>\n",
       "  </tbody>\n",
       "</table>\n",
       "</div>"
      ],
      "text/plain": [
       "        date  year  month  day  hour  minute  weekday   day_name  dayofyear\n",
       "0 2019-08-10  2019      8   10     0       0        5   Saturday        222\n",
       "1 2019-08-11  2019      8   11     0       0        6     Sunday        223\n",
       "2 2019-08-12  2019      8   12     0       0        0     Monday        224\n",
       "3 2019-08-13  2019      8   13     0       0        1    Tuesday        225\n",
       "4 2019-08-14  2019      8   14     0       0        2  Wednesday        226"
      ]
     },
     "execution_count": 104,
     "metadata": {},
     "output_type": "execute_result"
    }
   ],
   "source": [
    "# get Weekday and Day of Year. Assign all these date component to new column.\n",
    "df['weekday'] = df['date'].dt.weekday\n",
    "df['day_name'] = df['date'].dt.weekday_name\n",
    "df['dayofyear'] = df['date'].dt.dayofyear\n",
    "df.head()"
   ]
  },
  {
   "cell_type": "markdown",
   "metadata": {},
   "source": [
    "Convert Date Object into DataFrame Index"
   ]
  },
  {
   "cell_type": "code",
   "execution_count": 115,
   "metadata": {},
   "outputs": [
    {
     "data": {
      "text/plain": [
       "pandas.core.frame.DataFrame"
      ]
     },
     "execution_count": 115,
     "metadata": {},
     "output_type": "execute_result"
    }
   ],
   "source": [
    "type(df) "
   ]
  },
  {
   "cell_type": "code",
   "execution_count": 117,
   "metadata": {},
   "outputs": [
    {
     "data": {
      "text/html": [
       "<div>\n",
       "<style scoped>\n",
       "    .dataframe tbody tr th:only-of-type {\n",
       "        vertical-align: middle;\n",
       "    }\n",
       "\n",
       "    .dataframe tbody tr th {\n",
       "        vertical-align: top;\n",
       "    }\n",
       "\n",
       "    .dataframe thead th {\n",
       "        text-align: right;\n",
       "    }\n",
       "</style>\n",
       "<table border=\"1\" class=\"dataframe\">\n",
       "  <thead>\n",
       "    <tr style=\"text-align: right;\">\n",
       "      <th></th>\n",
       "      <th>date</th>\n",
       "      <th>year</th>\n",
       "      <th>month</th>\n",
       "      <th>day</th>\n",
       "      <th>hour</th>\n",
       "      <th>minute</th>\n",
       "      <th>weekday</th>\n",
       "      <th>day_name</th>\n",
       "      <th>dayofyear</th>\n",
       "    </tr>\n",
       "    <tr>\n",
       "      <th>date</th>\n",
       "      <th></th>\n",
       "      <th></th>\n",
       "      <th></th>\n",
       "      <th></th>\n",
       "      <th></th>\n",
       "      <th></th>\n",
       "      <th></th>\n",
       "      <th></th>\n",
       "      <th></th>\n",
       "    </tr>\n",
       "  </thead>\n",
       "  <tbody>\n",
       "    <tr>\n",
       "      <td>2019-08-10</td>\n",
       "      <td>2019-08-10</td>\n",
       "      <td>2019</td>\n",
       "      <td>8</td>\n",
       "      <td>10</td>\n",
       "      <td>0</td>\n",
       "      <td>0</td>\n",
       "      <td>5</td>\n",
       "      <td>Saturday</td>\n",
       "      <td>222</td>\n",
       "    </tr>\n",
       "    <tr>\n",
       "      <td>2019-08-11</td>\n",
       "      <td>2019-08-11</td>\n",
       "      <td>2019</td>\n",
       "      <td>8</td>\n",
       "      <td>11</td>\n",
       "      <td>0</td>\n",
       "      <td>0</td>\n",
       "      <td>6</td>\n",
       "      <td>Sunday</td>\n",
       "      <td>223</td>\n",
       "    </tr>\n",
       "    <tr>\n",
       "      <td>2019-08-12</td>\n",
       "      <td>2019-08-12</td>\n",
       "      <td>2019</td>\n",
       "      <td>8</td>\n",
       "      <td>12</td>\n",
       "      <td>0</td>\n",
       "      <td>0</td>\n",
       "      <td>0</td>\n",
       "      <td>Monday</td>\n",
       "      <td>224</td>\n",
       "    </tr>\n",
       "    <tr>\n",
       "      <td>2019-08-13</td>\n",
       "      <td>2019-08-13</td>\n",
       "      <td>2019</td>\n",
       "      <td>8</td>\n",
       "      <td>13</td>\n",
       "      <td>0</td>\n",
       "      <td>0</td>\n",
       "      <td>1</td>\n",
       "      <td>Tuesday</td>\n",
       "      <td>225</td>\n",
       "    </tr>\n",
       "    <tr>\n",
       "      <td>2019-08-14</td>\n",
       "      <td>2019-08-14</td>\n",
       "      <td>2019</td>\n",
       "      <td>8</td>\n",
       "      <td>14</td>\n",
       "      <td>0</td>\n",
       "      <td>0</td>\n",
       "      <td>2</td>\n",
       "      <td>Wednesday</td>\n",
       "      <td>226</td>\n",
       "    </tr>\n",
       "    <tr>\n",
       "      <td>2019-08-15</td>\n",
       "      <td>2019-08-15</td>\n",
       "      <td>2019</td>\n",
       "      <td>8</td>\n",
       "      <td>15</td>\n",
       "      <td>0</td>\n",
       "      <td>0</td>\n",
       "      <td>3</td>\n",
       "      <td>Thursday</td>\n",
       "      <td>227</td>\n",
       "    </tr>\n",
       "    <tr>\n",
       "      <td>2019-08-16</td>\n",
       "      <td>2019-08-16</td>\n",
       "      <td>2019</td>\n",
       "      <td>8</td>\n",
       "      <td>16</td>\n",
       "      <td>0</td>\n",
       "      <td>0</td>\n",
       "      <td>4</td>\n",
       "      <td>Friday</td>\n",
       "      <td>228</td>\n",
       "    </tr>\n",
       "    <tr>\n",
       "      <td>2019-08-17</td>\n",
       "      <td>2019-08-17</td>\n",
       "      <td>2019</td>\n",
       "      <td>8</td>\n",
       "      <td>17</td>\n",
       "      <td>0</td>\n",
       "      <td>0</td>\n",
       "      <td>5</td>\n",
       "      <td>Saturday</td>\n",
       "      <td>229</td>\n",
       "    </tr>\n",
       "    <tr>\n",
       "      <td>2019-08-18</td>\n",
       "      <td>2019-08-18</td>\n",
       "      <td>2019</td>\n",
       "      <td>8</td>\n",
       "      <td>18</td>\n",
       "      <td>0</td>\n",
       "      <td>0</td>\n",
       "      <td>6</td>\n",
       "      <td>Sunday</td>\n",
       "      <td>230</td>\n",
       "    </tr>\n",
       "    <tr>\n",
       "      <td>2019-08-19</td>\n",
       "      <td>2019-08-19</td>\n",
       "      <td>2019</td>\n",
       "      <td>8</td>\n",
       "      <td>19</td>\n",
       "      <td>0</td>\n",
       "      <td>0</td>\n",
       "      <td>0</td>\n",
       "      <td>Monday</td>\n",
       "      <td>231</td>\n",
       "    </tr>\n",
       "    <tr>\n",
       "      <td>2019-08-20</td>\n",
       "      <td>2019-08-20</td>\n",
       "      <td>2019</td>\n",
       "      <td>8</td>\n",
       "      <td>20</td>\n",
       "      <td>0</td>\n",
       "      <td>0</td>\n",
       "      <td>1</td>\n",
       "      <td>Tuesday</td>\n",
       "      <td>232</td>\n",
       "    </tr>\n",
       "    <tr>\n",
       "      <td>2019-08-21</td>\n",
       "      <td>2019-08-21</td>\n",
       "      <td>2019</td>\n",
       "      <td>8</td>\n",
       "      <td>21</td>\n",
       "      <td>0</td>\n",
       "      <td>0</td>\n",
       "      <td>2</td>\n",
       "      <td>Wednesday</td>\n",
       "      <td>233</td>\n",
       "    </tr>\n",
       "  </tbody>\n",
       "</table>\n",
       "</div>"
      ],
      "text/plain": [
       "                 date  year  month  day  hour  minute  weekday   day_name  \\\n",
       "date                                                                        \n",
       "2019-08-10 2019-08-10  2019      8   10     0       0        5   Saturday   \n",
       "2019-08-11 2019-08-11  2019      8   11     0       0        6     Sunday   \n",
       "2019-08-12 2019-08-12  2019      8   12     0       0        0     Monday   \n",
       "2019-08-13 2019-08-13  2019      8   13     0       0        1    Tuesday   \n",
       "2019-08-14 2019-08-14  2019      8   14     0       0        2  Wednesday   \n",
       "2019-08-15 2019-08-15  2019      8   15     0       0        3   Thursday   \n",
       "2019-08-16 2019-08-16  2019      8   16     0       0        4     Friday   \n",
       "2019-08-17 2019-08-17  2019      8   17     0       0        5   Saturday   \n",
       "2019-08-18 2019-08-18  2019      8   18     0       0        6     Sunday   \n",
       "2019-08-19 2019-08-19  2019      8   19     0       0        0     Monday   \n",
       "2019-08-20 2019-08-20  2019      8   20     0       0        1    Tuesday   \n",
       "2019-08-21 2019-08-21  2019      8   21     0       0        2  Wednesday   \n",
       "\n",
       "            dayofyear  \n",
       "date                   \n",
       "2019-08-10        222  \n",
       "2019-08-11        223  \n",
       "2019-08-12        224  \n",
       "2019-08-13        225  \n",
       "2019-08-14        226  \n",
       "2019-08-15        227  \n",
       "2019-08-16        228  \n",
       "2019-08-17        229  \n",
       "2019-08-18        230  \n",
       "2019-08-19        231  \n",
       "2019-08-20        232  \n",
       "2019-08-21        233  "
      ]
     },
     "execution_count": 117,
     "metadata": {},
     "output_type": "execute_result"
    }
   ],
   "source": [
    "df"
   ]
  },
  {
   "cell_type": "code",
   "execution_count": 122,
   "metadata": {},
   "outputs": [
    {
     "data": {
      "text/html": [
       "<div>\n",
       "<style scoped>\n",
       "    .dataframe tbody tr th:only-of-type {\n",
       "        vertical-align: middle;\n",
       "    }\n",
       "\n",
       "    .dataframe tbody tr th {\n",
       "        vertical-align: top;\n",
       "    }\n",
       "\n",
       "    .dataframe thead th {\n",
       "        text-align: right;\n",
       "    }\n",
       "</style>\n",
       "<table border=\"1\" class=\"dataframe\">\n",
       "  <thead>\n",
       "    <tr style=\"text-align: right;\">\n",
       "      <th></th>\n",
       "      <th>year</th>\n",
       "      <th>month</th>\n",
       "      <th>day</th>\n",
       "      <th>hour</th>\n",
       "      <th>minute</th>\n",
       "      <th>weekday</th>\n",
       "      <th>day_name</th>\n",
       "      <th>dayofyear</th>\n",
       "    </tr>\n",
       "    <tr>\n",
       "      <th>date</th>\n",
       "      <th></th>\n",
       "      <th></th>\n",
       "      <th></th>\n",
       "      <th></th>\n",
       "      <th></th>\n",
       "      <th></th>\n",
       "      <th></th>\n",
       "      <th></th>\n",
       "    </tr>\n",
       "  </thead>\n",
       "  <tbody>\n",
       "    <tr>\n",
       "      <td>2019-08-10</td>\n",
       "      <td>2019</td>\n",
       "      <td>8</td>\n",
       "      <td>10</td>\n",
       "      <td>0</td>\n",
       "      <td>0</td>\n",
       "      <td>5</td>\n",
       "      <td>Saturday</td>\n",
       "      <td>222</td>\n",
       "    </tr>\n",
       "    <tr>\n",
       "      <td>2019-08-11</td>\n",
       "      <td>2019</td>\n",
       "      <td>8</td>\n",
       "      <td>11</td>\n",
       "      <td>0</td>\n",
       "      <td>0</td>\n",
       "      <td>6</td>\n",
       "      <td>Sunday</td>\n",
       "      <td>223</td>\n",
       "    </tr>\n",
       "    <tr>\n",
       "      <td>2019-08-12</td>\n",
       "      <td>2019</td>\n",
       "      <td>8</td>\n",
       "      <td>12</td>\n",
       "      <td>0</td>\n",
       "      <td>0</td>\n",
       "      <td>0</td>\n",
       "      <td>Monday</td>\n",
       "      <td>224</td>\n",
       "    </tr>\n",
       "    <tr>\n",
       "      <td>2019-08-13</td>\n",
       "      <td>2019</td>\n",
       "      <td>8</td>\n",
       "      <td>13</td>\n",
       "      <td>0</td>\n",
       "      <td>0</td>\n",
       "      <td>1</td>\n",
       "      <td>Tuesday</td>\n",
       "      <td>225</td>\n",
       "    </tr>\n",
       "    <tr>\n",
       "      <td>2019-08-14</td>\n",
       "      <td>2019</td>\n",
       "      <td>8</td>\n",
       "      <td>14</td>\n",
       "      <td>0</td>\n",
       "      <td>0</td>\n",
       "      <td>2</td>\n",
       "      <td>Wednesday</td>\n",
       "      <td>226</td>\n",
       "    </tr>\n",
       "    <tr>\n",
       "      <td>2019-08-15</td>\n",
       "      <td>2019</td>\n",
       "      <td>8</td>\n",
       "      <td>15</td>\n",
       "      <td>0</td>\n",
       "      <td>0</td>\n",
       "      <td>3</td>\n",
       "      <td>Thursday</td>\n",
       "      <td>227</td>\n",
       "    </tr>\n",
       "    <tr>\n",
       "      <td>2019-08-16</td>\n",
       "      <td>2019</td>\n",
       "      <td>8</td>\n",
       "      <td>16</td>\n",
       "      <td>0</td>\n",
       "      <td>0</td>\n",
       "      <td>4</td>\n",
       "      <td>Friday</td>\n",
       "      <td>228</td>\n",
       "    </tr>\n",
       "    <tr>\n",
       "      <td>2019-08-17</td>\n",
       "      <td>2019</td>\n",
       "      <td>8</td>\n",
       "      <td>17</td>\n",
       "      <td>0</td>\n",
       "      <td>0</td>\n",
       "      <td>5</td>\n",
       "      <td>Saturday</td>\n",
       "      <td>229</td>\n",
       "    </tr>\n",
       "    <tr>\n",
       "      <td>2019-08-18</td>\n",
       "      <td>2019</td>\n",
       "      <td>8</td>\n",
       "      <td>18</td>\n",
       "      <td>0</td>\n",
       "      <td>0</td>\n",
       "      <td>6</td>\n",
       "      <td>Sunday</td>\n",
       "      <td>230</td>\n",
       "    </tr>\n",
       "    <tr>\n",
       "      <td>2019-08-19</td>\n",
       "      <td>2019</td>\n",
       "      <td>8</td>\n",
       "      <td>19</td>\n",
       "      <td>0</td>\n",
       "      <td>0</td>\n",
       "      <td>0</td>\n",
       "      <td>Monday</td>\n",
       "      <td>231</td>\n",
       "    </tr>\n",
       "    <tr>\n",
       "      <td>2019-08-20</td>\n",
       "      <td>2019</td>\n",
       "      <td>8</td>\n",
       "      <td>20</td>\n",
       "      <td>0</td>\n",
       "      <td>0</td>\n",
       "      <td>1</td>\n",
       "      <td>Tuesday</td>\n",
       "      <td>232</td>\n",
       "    </tr>\n",
       "    <tr>\n",
       "      <td>2019-08-21</td>\n",
       "      <td>2019</td>\n",
       "      <td>8</td>\n",
       "      <td>21</td>\n",
       "      <td>0</td>\n",
       "      <td>0</td>\n",
       "      <td>2</td>\n",
       "      <td>Wednesday</td>\n",
       "      <td>233</td>\n",
       "    </tr>\n",
       "  </tbody>\n",
       "</table>\n",
       "</div>"
      ],
      "text/plain": [
       "            year  month  day  hour  minute  weekday   day_name  dayofyear\n",
       "date                                                                     \n",
       "2019-08-10  2019      8   10     0       0        5   Saturday        222\n",
       "2019-08-11  2019      8   11     0       0        6     Sunday        223\n",
       "2019-08-12  2019      8   12     0       0        0     Monday        224\n",
       "2019-08-13  2019      8   13     0       0        1    Tuesday        225\n",
       "2019-08-14  2019      8   14     0       0        2  Wednesday        226\n",
       "2019-08-15  2019      8   15     0       0        3   Thursday        227\n",
       "2019-08-16  2019      8   16     0       0        4     Friday        228\n",
       "2019-08-17  2019      8   17     0       0        5   Saturday        229\n",
       "2019-08-18  2019      8   18     0       0        6     Sunday        230\n",
       "2019-08-19  2019      8   19     0       0        0     Monday        231\n",
       "2019-08-20  2019      8   20     0       0        1    Tuesday        232\n",
       "2019-08-21  2019      8   21     0       0        2  Wednesday        233"
      ]
     },
     "execution_count": 122,
     "metadata": {},
     "output_type": "execute_result"
    }
   ],
   "source": [
    "# Assign date column to dataframe index\n",
    "df.index = df.date\n",
    "df.head()\n",
    "df.drop(columns='date',axis=1)\n",
    "#df.set_index(df.date)\n",
    "#df.head()\n",
    "\n",
    "#df.reset_index(drop=True)\n"
   ]
  },
  {
   "cell_type": "code",
   "execution_count": 123,
   "metadata": {},
   "outputs": [],
   "source": [
    "#Substraction of days, year, months\n",
    "#while subtracting time your need to convert time into either minute, hours, our seconds"
   ]
  },
  {
   "cell_type": "code",
   "execution_count": null,
   "metadata": {},
   "outputs": [],
   "source": [
    "import numpy as np\n",
    "import pandas as pd\n",
    "\n",
    "df=pd.DataFrame({\n",
    "    'date1' : [pd.to_datetime('01/01/2020'),pd.to_datetime('01/02/2020'),pd.to_datetime('01/02/2020')],\n",
    "    'day1'  : [1,2,3],\n",
    "    'time1' : [140, 240, 250]\n",
    "})\n",
    "\n",
    "df\n",
    "\n",
    "type(df)\n",
    "\n",
    "type(df['date1'][0])\n",
    "\n",
    "type(df['day1'][0])\n",
    "\n",
    "type(df['time1'][0])\n",
    "\n",
    "df['date2'] = df['date1'] + pd.to_timedelta(df['day1'], unit='d')\n",
    "\n",
    "\n",
    "df\n",
    "\n",
    "df['date2'] = df['date1'] - pd.to_timedelta(df['day1'], unit='d')\n",
    "\n",
    "df\n",
    "\n",
    "df['date3'] = df['date1'] - pd.to_timedelta(df['day1'], unit='h')\n",
    "\n",
    "df\n",
    "\n",
    "df['date3'] = df['date1'] - pd.to_timedelta(df['day1'], unit='m')\n",
    "\n",
    "df\n",
    "\n",
    "df['date3'] = df['date1'] - pd.to_timedelta(df['day1'], unit='s')\n",
    "\n",
    "df['date3'] = df['date1'] - pd.to_timedelta(df['day1'], unit='h')\n",
    "\n",
    "df['date4'] = df['date1'] - pd.to_timedelta(df['time1'], unit='s')\n",
    "\n",
    "df['date4']"
   ]
  }
 ],
 "metadata": {
  "kernelspec": {
   "display_name": "Python 3",
   "language": "python",
   "name": "python3"
  },
  "language_info": {
   "codemirror_mode": {
    "name": "ipython",
    "version": 3
   },
   "file_extension": ".py",
   "mimetype": "text/x-python",
   "name": "python",
   "nbconvert_exporter": "python",
   "pygments_lexer": "ipython3",
   "version": "3.7.4"
  }
 },
 "nbformat": 4,
 "nbformat_minor": 2
}
