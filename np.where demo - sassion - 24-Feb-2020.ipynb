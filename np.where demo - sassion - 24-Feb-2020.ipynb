{
 "cells": [
  {
   "cell_type": "markdown",
   "metadata": {},
   "source": [
    "# Np.where demo"
   ]
  },
  {
   "cell_type": "code",
   "execution_count": 3,
   "metadata": {},
   "outputs": [],
   "source": [
    "import numpy as np"
   ]
  },
  {
   "cell_type": "code",
   "execution_count": 11,
   "metadata": {},
   "outputs": [
    {
     "name": "stdout",
     "output_type": "stream",
     "text": [
      "('Contents of Numpy array returned: ', array([ 7,  2, 90]))\n"
     ]
    }
   ],
   "source": [
    "# call numpy.where() with 3 arguments\n",
    "result = np.where([False, True, False], [1, 2, 9], [7, 8, 90])\n",
    "print('Contents of Numpy array returned: ', result)"
   ]
  },
  {
   "cell_type": "code",
   "execution_count": 14,
   "metadata": {},
   "outputs": [
    {
     "name": "stdout",
     "output_type": "stream",
     "text": [
      "('Contents of Numpy array returned: ', array([1, 8, 9, 2]))\n"
     ]
    }
   ],
   "source": [
    "# Create a Numpy array from a list\n",
    "arr = np.array([11, 12, 13,14])\n",
    "\n",
    "# call numpy.where() with 3 arguments\n",
    "result = np.where(arr < 12, [1, 2, 4,5], [7, 8, 9,2]) \n",
    "\n",
    "print('Contents of Numpy array returned: ', result)"
   ]
  },
  {
   "cell_type": "code",
   "execution_count": 17,
   "metadata": {},
   "outputs": [
    {
     "name": "stdout",
     "output_type": "stream",
     "text": [
      "*** Use numpy.where() condition argument only ***\n",
      "('Elements in given range exist :', array([13, 14, 15, 15, 14, 15]))\n",
      "('Elements in given range exists at following Index :', (array([ 2,  3,  4,  7, 10, 11], dtype=int64),))\n"
     ]
    }
   ],
   "source": [
    "print('*** Use numpy.where() condition argument only ***')\n",
    " \n",
    "# Create a numpy array from list\n",
    "arr = np.array([11, 12, 13, 14, 15, 16, 17, 15, 11, 12, 14, 15, 16, 17])\n",
    "\n",
    "# pass condition expression only\n",
    "result = np.where((arr > 12) & (arr < 16))\n",
    "\n",
    "if len(result) > 0:\n",
    "    print('Elements in given range exist :', arr[result])\n",
    "    print('Elements in given range exists at following Index :', result)\n",
    "    \n",
    "else:\n",
    "    print('Element Not Found')"
   ]
  },
  {
   "cell_type": "code",
   "execution_count": null,
   "metadata": {},
   "outputs": [],
   "source": []
  }
 ],
 "metadata": {
  "kernelspec": {
   "display_name": "Python 2",
   "language": "python",
   "name": "python2"
  },
  "language_info": {
   "codemirror_mode": {
    "name": "ipython",
    "version": 2
   },
   "file_extension": ".py",
   "mimetype": "text/x-python",
   "name": "python",
   "nbconvert_exporter": "python",
   "pygments_lexer": "ipython2",
   "version": "2.7.16"
  }
 },
 "nbformat": 4,
 "nbformat_minor": 2
}
